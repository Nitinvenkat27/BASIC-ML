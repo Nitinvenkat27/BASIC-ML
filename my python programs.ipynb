{
  "nbformat": 4,
  "nbformat_minor": 0,
  "metadata": {
    "colab": {
      "name": "Untitled0.ipynb",
      "provenance": [],
      "authorship_tag": "ABX9TyM3Thbviuubsm0c07F0NNQw",
      "include_colab_link": true
    },
    "kernelspec": {
      "name": "python3",
      "display_name": "Python 3"
    },
    "language_info": {
      "name": "python"
    }
  },
  "cells": [
    {
      "cell_type": "markdown",
      "metadata": {
        "id": "view-in-github",
        "colab_type": "text"
      },
      "source": [
        "<a href=\"https://colab.research.google.com/github/Nitinvenkat27/BASIC-ML/blob/main/my%20python%20programs.ipynb\" target=\"_parent\"><img src=\"https://colab.research.google.com/assets/colab-badge.svg\" alt=\"Open In Colab\"/></a>"
      ]
    },
    {
      "cell_type": "markdown",
      "metadata": {
        "id": "C-6sVH1-O3OT"
      },
      "source": [
        "program for sum of squares of 1st n natural numbers"
      ]
    },
    {
      "cell_type": "code",
      "metadata": {
        "id": "zsxEnrxlekNi",
        "colab": {
          "base_uri": "https://localhost:8080/"
        },
        "outputId": "0ece23a9-ee6d-4485-ae89-001d22b80c3f"
      },
      "source": [
        "n=int(input())\n",
        "sum=0\n",
        "for  i  in range(1,n+1):\n",
        "\tsum=sum+i*i\n",
        "print(sum)\n"
      ],
      "execution_count": null,
      "outputs": [
        {
          "output_type": "stream",
          "text": [
            "12\n",
            "650\n"
          ],
          "name": "stdout"
        }
      ]
    },
    {
      "cell_type": "markdown",
      "metadata": {
        "id": "_CVsF0eLN5rm"
      },
      "source": [
        "python program for power (x,n)"
      ]
    },
    {
      "cell_type": "code",
      "metadata": {
        "colab": {
          "base_uri": "https://localhost:8080/"
        },
        "id": "YSlADeczlPCN",
        "outputId": "1a06cfef-2f68-425c-d975-df2c1527eeee"
      },
      "source": [
        " def power(x,n):\n",
        "    if x==0 or n==0:\n",
        "        if x==0:\n",
        "            return 0\n",
        "        else:\n",
        "            return 1\n",
        "    else:\n",
        "        return x*power(x,n-1)\n",
        "n=int(input())\n",
        "x=int(input())\n",
        "print(power(x,n))\n"
      ],
      "execution_count": null,
      "outputs": [
        {
          "output_type": "stream",
          "text": [
            "3\n",
            "2\n",
            "8\n"
          ],
          "name": "stdout"
        }
      ]
    },
    {
      "cell_type": "markdown",
      "metadata": {
        "id": "Vyq2ekRUNv_1"
      },
      "source": [
        "python program for sum of 1st n natural numbers"
      ]
    },
    {
      "cell_type": "code",
      "metadata": {
        "colab": {
          "base_uri": "https://localhost:8080/"
        },
        "id": "IFLQxQODlDrG",
        "outputId": "58651442-7220-4b19-f3de-42b14f2a6278"
      },
      "source": [
        "n=int(input())\n",
        "sum=0\n",
        "for  i  in range(1,n+1):\n",
        "\tsum=sum+i\n",
        "print(sum)\n"
      ],
      "execution_count": null,
      "outputs": [
        {
          "output_type": "stream",
          "text": [
            "12\n",
            "78\n"
          ],
          "name": "stdout"
        }
      ]
    }
  ]
}